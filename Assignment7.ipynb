{
 "cells": [
  {
   "cell_type": "raw",
   "id": "f97cd4bc-800e-48b2-a355-b7584adfd118",
   "metadata": {},
   "source": [
    "# Q1. You are writing code for a company. The requirement of the company is that you create a python\n",
    "# function that will check whether the password entered by the user is correct or not. The function should\n",
    "# take the password as input and return the string “Valid Password” if the entered password follows the\n",
    "# below-given password guidelines else it should return “Invalid Password”.\n",
    "# Note: 1. The Password should contain at least two uppercase letters and at least two lowercase letters.\n",
    "# 2. The Password should contain at least a number and three special characters.\n",
    "# 3. The length of the password should be 10 characters long."
   ]
  },
  {
   "cell_type": "code",
   "execution_count": 19,
   "id": "7780a58a-f84e-4d37-968d-d3d3aff9c392",
   "metadata": {},
   "outputs": [],
   "source": [
    "def password_checking():\n",
    "    password = input(\"enter your password\")\n",
    "    lower,upper,digit,special_chara=0,0,0,0\n",
    "    if len(password)>=10:\n",
    "        for i in password:\n",
    "            if i.islower():\n",
    "                lower+=1\n",
    "            if i.isupper():\n",
    "                upper+=1\n",
    "            if i.isdigit():\n",
    "                digit+=1\n",
    "            if i=='~' or i=='`'or i=='@' or i=='#' or i=='$' or i=='%' or i=='^' or i=='&' or i=='*' or i=='(' or i==')' or i=='+' or i=='=' or i=='_' or i=='-' or i=='[' or i==']' or i=='{' or i=='}'or  i==':' or i==';' or i=='\"'  or i==\"'\" or i=='<' or i=='>' or i==',' or i=='.' or i=='/' or i=='?' :\n",
    "                special_chara +=1\n",
    "    if lower>=2 and upper>=2 and digit>=1 and special_chara>=3 and lower+upper+digit+special_chara==len(password):\n",
    "        print(\"valid password\")\n",
    "    else:\n",
    "        print(\"invalid password\")\n",
    "    "
   ]
  },
  {
   "cell_type": "code",
   "execution_count": 20,
   "id": "9700c445-8afc-4200-a6f5-e4292e946a1a",
   "metadata": {},
   "outputs": [
    {
     "name": "stdin",
     "output_type": "stream",
     "text": [
      "enter your password bdhJHDUI#Y165&*(()\n"
     ]
    },
    {
     "name": "stdout",
     "output_type": "stream",
     "text": [
      "valid password\n"
     ]
    }
   ],
   "source": [
    "password_checking()"
   ]
  },
  {
   "cell_type": "raw",
   "id": "b8313ec3-9545-4047-8001-58017341bea5",
   "metadata": {},
   "source": [
    "# question 2: Solve the below-given questions using at least one of the following:\n",
    "# 1. Lambda function\n",
    "# 2. Filter function\n",
    "# 3. map function\n",
    "# 4. List ComprehensioI\n",
    "# B Check if the string starts with a particular letterY\n",
    "# B Check if the string is numeric\n",
    "# B Sort a list of tuples having fruit names and their quantity. [(\"mango\",99),(\"orange\",80), (\"grapes\", 1000)-\n",
    "# B Find the squares of numbers from 1 to 10Y\n",
    "# B Find the cube root of numbers from 1 to 10Y\n",
    "# B Check if a given number is evenY\n",
    "# B Filter odd numbers from the given list.\n",
    "# [1,2,3,4,5,6,7,8,9,10]\n",
    "# B Sort a list of integers into positive and negative integers lists.\n",
    "# [1,2,3,4,5,6,-1,-2,-3,-4,-5,0]"
   ]
  },
  {
   "cell_type": "code",
   "execution_count": null,
   "id": "e8d71e2a-2ca3-4c94-98e7-b5f2f113c506",
   "metadata": {},
   "outputs": [],
   "source": [
    "# Check if the string starts with a particular letter"
   ]
  },
  {
   "cell_type": "code",
   "execution_count": 10,
   "id": "ab57453c-9418-4ad7-96d1-19e47907ea65",
   "metadata": {},
   "outputs": [
    {
     "data": {
      "text/plain": [
       "['hello']"
      ]
     },
     "execution_count": 10,
     "metadata": {},
     "output_type": "execute_result"
    }
   ],
   "source": [
    "l=['apple' ,'hello' ,'letter']\n",
    "list(filter(lambda x : x.startswith('h'),l))"
   ]
  },
  {
   "cell_type": "code",
   "execution_count": null,
   "id": "c74b6b4f-a07d-4bd4-ab52-d3e358d88af8",
   "metadata": {},
   "outputs": [],
   "source": [
    "#  Check if the string is numeric"
   ]
  },
  {
   "cell_type": "code",
   "execution_count": 16,
   "id": "9d0d847a-4c3f-4b2c-8b1d-852d92828802",
   "metadata": {},
   "outputs": [
    {
     "data": {
      "text/plain": [
       "[1, 2, 3, 4, 5]"
      ]
     },
     "execution_count": 16,
     "metadata": {},
     "output_type": "execute_result"
    }
   ],
   "source": [
    "l1=[1,2,3,4,5,'hello','thanks','think',6536.45]\n",
    "list( i for i in l1 if type(i)== int )"
   ]
  },
  {
   "cell_type": "code",
   "execution_count": null,
   "id": "b4eda4bf-6df7-4d1a-9c1c-78d75b865b8a",
   "metadata": {},
   "outputs": [],
   "source": [
    "# Sort a list of tuples having fruit names and their quantity. [(\"mango\",99),(\"orange\",80), (\"grapes\", 1000)-"
   ]
  },
  {
   "cell_type": "code",
   "execution_count": 26,
   "id": "bb9f1847-e6bf-465f-832e-a0573d655b93",
   "metadata": {},
   "outputs": [
    {
     "data": {
      "text/plain": [
       "['mango', 'orange', 'grapes']"
      ]
     },
     "execution_count": 26,
     "metadata": {},
     "output_type": "execute_result"
    }
   ],
   "source": [
    "a= [(\"mango\",99),(\"orange\",80), (\"grapes\", 1000)]\n",
    "list(map(lambda x:x[0],a))"
   ]
  },
  {
   "cell_type": "code",
   "execution_count": 27,
   "id": "bd6f7214-afd4-4c03-a3bc-7299352dc1dd",
   "metadata": {},
   "outputs": [],
   "source": [
    "# Find the squares of numbers from 1 to 10"
   ]
  },
  {
   "cell_type": "code",
   "execution_count": 40,
   "id": "00acdb34-e050-420b-9471-86720bb74a15",
   "metadata": {},
   "outputs": [
    {
     "data": {
      "text/plain": [
       "[1, 4, 9, 16, 25, 36, 49, 64, 81, 100]"
      ]
     },
     "execution_count": 40,
     "metadata": {},
     "output_type": "execute_result"
    }
   ],
   "source": [
    "l3=[1,2,3,4,5,6,7,8,9,10]\n",
    "list(map(lambda x:x**2,l3))"
   ]
  },
  {
   "cell_type": "code",
   "execution_count": 30,
   "id": "74efbb89-c26f-410d-af89-a1a6bf99ffce",
   "metadata": {},
   "outputs": [],
   "source": [
    "# Find the cube root of numbers from 1 to 10"
   ]
  },
  {
   "cell_type": "code",
   "execution_count": 37,
   "id": "f6a96702-cb44-4207-971b-ad11bcf270e1",
   "metadata": {},
   "outputs": [
    {
     "data": {
      "text/plain": [
       "[1.0,\n",
       " 1.2599210498948732,\n",
       " 1.4422495703074083,\n",
       " 1.5874010519681994,\n",
       " 1.7099759466766968,\n",
       " 1.8171205928321397,\n",
       " 1.912931182772389,\n",
       " 2.0,\n",
       " 2.080083823051904,\n",
       " 2.154434690031884]"
      ]
     },
     "execution_count": 37,
     "metadata": {},
     "output_type": "execute_result"
    }
   ],
   "source": [
    "list( i**(1/3) for i in range(1,11))"
   ]
  },
  {
   "cell_type": "code",
   "execution_count": 38,
   "id": "052db124-5c35-4233-939d-998d91998d31",
   "metadata": {},
   "outputs": [],
   "source": [
    "# Check if a given number is even"
   ]
  },
  {
   "cell_type": "code",
   "execution_count": 41,
   "id": "77bcc09b-4539-4497-8a5f-5bfd6a629547",
   "metadata": {},
   "outputs": [
    {
     "data": {
      "text/plain": [
       "[2, 4, 6, 8, 10]"
      ]
     },
     "execution_count": 41,
     "metadata": {},
     "output_type": "execute_result"
    }
   ],
   "source": [
    "l4=[1,2,3,4,5,6,7,8,9,10]\n",
    "list(filter(lambda x : x%2==0,l4))"
   ]
  },
  {
   "cell_type": "code",
   "execution_count": 42,
   "id": "1f74f68e-0f37-4263-a4a4-bc2366d85873",
   "metadata": {},
   "outputs": [],
   "source": [
    "# Filter odd numbers from the given list.\n",
    "\n",
    "#  [1,2,3,4,5,6,7,8,9,10]"
   ]
  },
  {
   "cell_type": "code",
   "execution_count": 43,
   "id": "7ccc95d4-1bac-4f4e-bdc4-020166138cc0",
   "metadata": {},
   "outputs": [
    {
     "data": {
      "text/plain": [
       "[1, 3, 5, 7, 9]"
      ]
     },
     "execution_count": 43,
     "metadata": {},
     "output_type": "execute_result"
    }
   ],
   "source": [
    "list(filter(lambda x : x%2!=0,l4))"
   ]
  },
  {
   "cell_type": "code",
   "execution_count": 44,
   "id": "63ade28e-dd10-42a4-a82b-0b80cf77b8ff",
   "metadata": {},
   "outputs": [],
   "source": [
    "# Sort a list of integers into positive and negative integers lists.\n",
    "\n",
    "#  [1,2,3,4,5,6,-1,-2,-3,-4,-5,0]"
   ]
  },
  {
   "cell_type": "code",
   "execution_count": 50,
   "id": "6a801a3a-acc4-42c9-a479-792d0150a7d7",
   "metadata": {},
   "outputs": [
    {
     "data": {
      "text/plain": [
       "[1, 2, 3, 4, 5, 6]"
      ]
     },
     "execution_count": 50,
     "metadata": {},
     "output_type": "execute_result"
    }
   ],
   "source": [
    "b= [1,2,3,4,5,6,-1,-2,-3,-4,-5,0]\n",
    "list(filter(lambda x: x > 0, b))\n"
   ]
  },
  {
   "cell_type": "code",
   "execution_count": 49,
   "id": "6d8a0ef3-e18f-42f3-af02-1cc423490b02",
   "metadata": {},
   "outputs": [
    {
     "data": {
      "text/plain": [
       "[-1, -2, -3, -4, -5]"
      ]
     },
     "execution_count": 49,
     "metadata": {},
     "output_type": "execute_result"
    }
   ],
   "source": [
    "list(filter(lambda x: x < 0, b))"
   ]
  },
  {
   "cell_type": "code",
   "execution_count": null,
   "id": "f1b1b54a-d2e0-4aef-90e4-30c8b954d187",
   "metadata": {},
   "outputs": [],
   "source": []
  }
 ],
 "metadata": {
  "kernelspec": {
   "display_name": "Python 3 (ipykernel)",
   "language": "python",
   "name": "python3"
  },
  "language_info": {
   "codemirror_mode": {
    "name": "ipython",
    "version": 3
   },
   "file_extension": ".py",
   "mimetype": "text/x-python",
   "name": "python",
   "nbconvert_exporter": "python",
   "pygments_lexer": "ipython3",
   "version": "3.10.8"
  }
 },
 "nbformat": 4,
 "nbformat_minor": 5
}
